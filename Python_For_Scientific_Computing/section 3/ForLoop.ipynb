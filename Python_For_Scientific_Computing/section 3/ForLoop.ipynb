{
 "cells": [
  {
   "cell_type": "code",
   "execution_count": 5,
   "id": "08d7494e-f916-4f76-a929-36a2fea55654",
   "metadata": {},
   "outputs": [
    {
     "name": "stdout",
     "output_type": "stream",
     "text": [
      "Enter the n for which you want to pritn the multiplication table.\n"
     ]
    },
    {
     "name": "stdin",
     "output_type": "stream",
     "text": [
      "Enter the n:  5\n"
     ]
    },
    {
     "name": "stdout",
     "output_type": "stream",
     "text": [
      "5 x 1 = 5\n",
      "5 x 2 = 10\n",
      "5 x 3 = 15\n",
      "5 x 4 = 20\n",
      "5 x 5 = 25\n",
      "5 x 6 = 30\n",
      "5 x 7 = 35\n",
      "5 x 8 = 40\n",
      "5 x 9 = 45\n",
      "5 x 10 = 50\n"
     ]
    }
   ],
   "source": [
    "print(\"Enter the n for which you want to pritn the multiplication table.\")\n",
    "n = int(input(\"Enter the n: \"))\n",
    "for i in range(1,11,1):\n",
    "    print(f\"{n} x {i} = {i*n}\")"
   ]
  },
  {
   "cell_type": "code",
   "execution_count": 7,
   "id": "6dcb3d48-d78b-4a55-89c2-6c1bf2b74b4c",
   "metadata": {},
   "outputs": [
    {
     "name": "stdout",
     "output_type": "stream",
     "text": [
      "Printing the multiplication in reverse order\n"
     ]
    },
    {
     "name": "stdin",
     "output_type": "stream",
     "text": [
      "Enter the n for which you want to print the table:  5\n"
     ]
    },
    {
     "name": "stdout",
     "output_type": "stream",
     "text": [
      "5 x 10 : 50\n",
      "5 x 9 : 45\n",
      "5 x 8 : 40\n",
      "5 x 7 : 35\n",
      "5 x 6 : 30\n",
      "5 x 5 : 25\n",
      "5 x 4 : 20\n",
      "5 x 3 : 15\n",
      "5 x 2 : 10\n",
      "5 x 1 : 5\n"
     ]
    }
   ],
   "source": [
    "print(\"Printing the multiplication in reverse order\")\n",
    "n = int(input(\"Enter the n for which you want to print the table: \"))\n",
    "for j in range(10,0,-1):\n",
    "    print(f\"{n} x {j} : {j*n}\")"
   ]
  },
  {
   "cell_type": "markdown",
   "id": "9f99919b-99d0-4ba3-926b-de30994a2aa6",
   "metadata": {},
   "source": [
    "### #Method 1: Using List Comprehension"
   ]
  },
  {
   "cell_type": "code",
   "execution_count": 11,
   "id": "e3abf1d3-a398-445e-92a7-696c58d5949b",
   "metadata": {},
   "outputs": [
    {
     "name": "stdin",
     "output_type": "stream",
     "text": [
      "Enter the n:  5\n"
     ]
    },
    {
     "name": "stdout",
     "output_type": "stream",
     "text": [
      "5 x 1 = 5\n",
      "5 x 2 = 10\n",
      "5 x 3 = 15\n",
      "5 x 4 = 20\n",
      "5 x 5 = 25\n",
      "5 x 6 = 30\n",
      "5 x 7 = 35\n",
      "5 x 8 = 40\n",
      "5 x 9 = 45\n",
      "5 x 10 = 50\n"
     ]
    },
    {
     "data": {
      "text/plain": [
       "[None, None, None, None, None, None, None, None, None, None]"
      ]
     },
     "execution_count": 11,
     "metadata": {},
     "output_type": "execute_result"
    }
   ],
   "source": [
    "n = int(input(\"Enter the n: \"))\n",
    "[print(f\"{n} x {i} = {n*i}\") for i in range(1,11,1)]"
   ]
  },
  {
   "cell_type": "markdown",
   "id": "285b00bb-2b6a-4801-b920-6a34d573140c",
   "metadata": {},
   "source": [
    "### Method 2: Using map() with lambda"
   ]
  },
  {
   "cell_type": "code",
   "execution_count": 13,
   "id": "b47b231b-6007-4196-9aab-5a9b5e8415b1",
   "metadata": {},
   "outputs": [
    {
     "name": "stdin",
     "output_type": "stream",
     "text": [
      "Enter the n:  5\n"
     ]
    },
    {
     "name": "stdout",
     "output_type": "stream",
     "text": [
      "5 x 1 = 5\n",
      "5 x 2 = 10\n",
      "5 x 3 = 15\n",
      "5 x 4 = 20\n",
      "5 x 5 = 25\n",
      "5 x 6 = 30\n",
      "5 x 7 = 35\n",
      "5 x 8 = 40\n",
      "5 x 9 = 45\n",
      "5 x 10 = 50\n"
     ]
    },
    {
     "data": {
      "text/plain": [
       "[None, None, None, None, None, None, None, None, None, None]"
      ]
     },
     "execution_count": 13,
     "metadata": {},
     "output_type": "execute_result"
    }
   ],
   "source": [
    "n = int(input(\"Enter the n: \"))\n",
    "list(map(lambda i: print(f\"{n} x {i} = {i*n}\"), range(1,11)))"
   ]
  },
  {
   "cell_type": "markdown",
   "id": "f5dc25bb-e780-49ab-9709-22323b19c5e2",
   "metadata": {},
   "source": [
    "### Method 3: Using print() with join() (if you want a single string output)"
   ]
  },
  {
   "cell_type": "code",
   "execution_count": 15,
   "id": "701c9aca-711c-4f22-a834-6067fc9a93ae",
   "metadata": {},
   "outputs": [
    {
     "name": "stdin",
     "output_type": "stream",
     "text": [
      "Enter the n:  5\n"
     ]
    },
    {
     "name": "stdout",
     "output_type": "stream",
     "text": [
      "5 x 1 = 5\n",
      "5 x 2 = 10\n",
      "5 x 3 = 15\n",
      "5 x 4 = 20\n",
      "5 x 5 = 25\n",
      "5 x 6 = 30\n",
      "5 x 7 = 35\n",
      "5 x 8 = 40\n",
      "5 x 9 = 45\n",
      "5 x 10 = 50\n"
     ]
    }
   ],
   "source": [
    "n = int(input(\"Enter the n: \"))\n",
    "print('\\n'.join([f\"{n} x {i} = {n*i}\" for i in range(1, 11)]))"
   ]
  },
  {
   "cell_type": "markdown",
   "id": "c0af61f0-24fa-46a5-b6d9-f48e640823f3",
   "metadata": {},
   "source": [
    "### Half pyramid Method 1: Basic Nested for Loops"
   ]
  },
  {
   "cell_type": "code",
   "execution_count": 20,
   "id": "6a3a5dda-3926-4ad2-8b75-b1c784c5bb3e",
   "metadata": {},
   "outputs": [
    {
     "name": "stdout",
     "output_type": "stream",
     "text": [
      "*\n",
      "**\n",
      "***\n",
      "****\n",
      "*****\n"
     ]
    }
   ],
   "source": [
    "for i in range(1,6):        #outer loop for rows\n",
    "    for j in range(i):      #Inner loop for stars in each row\n",
    "        print(\"*\",end=\"\")   #print start without newline\n",
    "    print()                 #move to next line after each row"
   ]
  },
  {
   "cell_type": "markdown",
   "id": "ada2a724-20ce-46da-a7b0-c2d7809a9987",
   "metadata": {},
   "source": [
    "### Method 2: Single for Loop with String Multiplication"
   ]
  },
  {
   "cell_type": "code",
   "execution_count": 23,
   "id": "08c652ee-4515-4871-81b4-1a8f77bf5ec4",
   "metadata": {},
   "outputs": [
    {
     "name": "stdout",
     "output_type": "stream",
     "text": [
      "*\n",
      "**\n",
      "***\n",
      "****\n",
      "*****\n"
     ]
    }
   ],
   "source": [
    "for i in range(1,6):\n",
    "    print(\"*\" * i)"
   ]
  },
  {
   "cell_type": "markdown",
   "id": "f9f9bbd8-43fc-4864-9368-9304acd106f5",
   "metadata": {},
   "source": [
    "### Method 3: One-Liner with List Comprehension"
   ]
  },
  {
   "cell_type": "code",
   "execution_count": 22,
   "id": "07777f22-b82e-4507-89ea-3b0902851cda",
   "metadata": {},
   "outputs": [
    {
     "name": "stdout",
     "output_type": "stream",
     "text": [
      "*\n",
      "**\n",
      "***\n",
      "****\n",
      "*****\n"
     ]
    },
    {
     "data": {
      "text/plain": [
       "[None, None, None, None, None]"
      ]
     },
     "execution_count": 22,
     "metadata": {},
     "output_type": "execute_result"
    }
   ],
   "source": [
    "[print(\"*\" * i) for i in range(1,6)]"
   ]
  },
  {
   "cell_type": "markdown",
   "id": "9171b9f1-bb07-4829-8e4a-06c79d1f0259",
   "metadata": {},
   "source": [
    "### Method 4: Using while Loop (for practice)"
   ]
  },
  {
   "cell_type": "code",
   "execution_count": 26,
   "id": "fc768aa5-84bd-4c08-a6a2-de476042aaea",
   "metadata": {},
   "outputs": [
    {
     "name": "stdout",
     "output_type": "stream",
     "text": [
      "*\n",
      "**\n",
      "***\n",
      "****\n",
      "*****\n"
     ]
    }
   ],
   "source": [
    "i = 1\n",
    "while i <= 5:\n",
    "    print(\"*\"*i)\n",
    "    i += 1"
   ]
  },
  {
   "cell_type": "markdown",
   "id": "b3ca24fd-95b1-4cc9-bf87-9c4bc20627a4",
   "metadata": {},
   "source": [
    "### Method 5: Using map() and lambda"
   ]
  },
  {
   "cell_type": "code",
   "execution_count": 27,
   "id": "f0ec892c-9a2f-4e32-b38d-83b0b2f21b3d",
   "metadata": {},
   "outputs": [
    {
     "name": "stdout",
     "output_type": "stream",
     "text": [
      "*\n",
      "**\n",
      "***\n",
      "****\n",
      "*****\n"
     ]
    },
    {
     "data": {
      "text/plain": [
       "[None, None, None, None, None]"
      ]
     },
     "execution_count": 27,
     "metadata": {},
     "output_type": "execute_result"
    }
   ],
   "source": [
    "list(map(lambda i: print(\"*\" * i), range(1,6)))"
   ]
  },
  {
   "cell_type": "markdown",
   "id": "6ba9546a-e5d2-49d8-b2b8-d2dff2ea7dd5",
   "metadata": {},
   "source": [
    "### Full pyramid : Beginer version"
   ]
  },
  {
   "cell_type": "code",
   "execution_count": 28,
   "id": "c1e39311-fbc2-4f45-9ae1-b802e6412112",
   "metadata": {},
   "outputs": [
    {
     "name": "stdout",
     "output_type": "stream",
     "text": [
      "   *\n",
      "  ***\n",
      " *****\n",
      "*******\n"
     ]
    }
   ],
   "source": [
    "rows = 4\n",
    "for i in range(rows):\n",
    "    spaces = rows - i - 1\n",
    "    stars = 2 * i + 1\n",
    "    print(\" \" * spaces + \"*\" * stars)"
   ]
  },
  {
   "cell_type": "markdown",
   "id": "81fa8dbe-d76b-42e0-9ef9-95e305551290",
   "metadata": {},
   "source": [
    "### One-Liner Version (Using List Comprehension)"
   ]
  },
  {
   "cell_type": "code",
   "execution_count": 30,
   "id": "7d07d9f3-f3cb-4df7-8aa4-b6cd569eb6d3",
   "metadata": {},
   "outputs": [
    {
     "name": "stdout",
     "output_type": "stream",
     "text": [
      "   *\n",
      "  ***\n",
      " *****\n",
      "*******\n"
     ]
    },
    {
     "data": {
      "text/plain": [
       "[None, None, None, None]"
      ]
     },
     "execution_count": 30,
     "metadata": {},
     "output_type": "execute_result"
    }
   ],
   "source": [
    "[print(\" \" * (4 - i - 1) + \"*\" * (2 * i + 1)) for i in range(4)]"
   ]
  },
  {
   "cell_type": "code",
   "execution_count": null,
   "id": "fd1db749-a2cd-43c8-b560-c4429e69dd37",
   "metadata": {},
   "outputs": [],
   "source": []
  }
 ],
 "metadata": {
  "kernelspec": {
   "display_name": "Python [conda env:base] *",
   "language": "python",
   "name": "conda-base-py"
  },
  "language_info": {
   "codemirror_mode": {
    "name": "ipython",
    "version": 3
   },
   "file_extension": ".py",
   "mimetype": "text/x-python",
   "name": "python",
   "nbconvert_exporter": "python",
   "pygments_lexer": "ipython3",
   "version": "3.13.5"
  }
 },
 "nbformat": 4,
 "nbformat_minor": 5
}
