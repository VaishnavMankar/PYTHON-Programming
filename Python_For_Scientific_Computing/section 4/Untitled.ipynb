{
 "cells": [
  {
   "cell_type": "markdown",
   "id": "d39040ac-cdd9-4b37-865b-cef22992c2d1",
   "metadata": {},
   "source": [
    "### Level 1: Basics with Data Types & Conditionals\n",
    "\n",
    "Odd or Even:\n",
    "Write a program that takes an integer input and prints whether it is odd or even.\n",
    "\n",
    "Largest of Three:\n",
    "Ask the user to input three numbers. Print the largest using if-elif-else.\n",
    "\n",
    "Vowel or Consonant:\n",
    "Take a character input. Check if it is a vowel or consonant.\n"
   ]
  },
  {
   "cell_type": "code",
   "execution_count": 1,
   "id": "a6e85fb7-cde2-4d7a-a4b8-477b2de75044",
   "metadata": {},
   "outputs": [
    {
     "name": "stdin",
     "output_type": "stream",
     "text": [
      "Enter the number:  10\n"
     ]
    },
    {
     "name": "stdout",
     "output_type": "stream",
     "text": [
      "Odd\n"
     ]
    }
   ],
   "source": [
    "num = int(input(\"Enter the number: \"))\n",
    "reminder = num%2\n",
    "if reminder == 0 :\n",
    "    print(\"Odd\")\n",
    "else:\n",
    "    print(\"even\")"
   ]
  },
  {
   "cell_type": "code",
   "execution_count": 5,
   "id": "10ffc4da-e962-4264-92c4-837d92836243",
   "metadata": {},
   "outputs": [
    {
     "name": "stdin",
     "output_type": "stream",
     "text": [
      "Enter three number 1,2,3\n"
     ]
    },
    {
     "name": "stdout",
     "output_type": "stream",
     "text": [
      "3 is greater than all\n"
     ]
    }
   ],
   "source": [
    "a,b,c = input(\"Enter three number\").split(\",\")\n",
    "if a > b and a > c:\n",
    "    print(f\"{a} is greater then all\")\n",
    "elif b > a and b > c:\n",
    "    print(f\"{b} is greater than all\")\n",
    "else:\n",
    "    print(f\"{c} is greater than all\")"
   ]
  },
  {
   "cell_type": "code",
   "execution_count": 17,
   "id": "86389d8d-46f8-4f22-a985-22b2f1d145d3",
   "metadata": {},
   "outputs": [
    {
     "name": "stdin",
     "output_type": "stream",
     "text": [
      "Enter a string Vaishnav\n"
     ]
    },
    {
     "name": "stdout",
     "output_type": "stream",
     "text": [
      "Vovel in the string 3\n",
      "Conconent in the string 5\n"
     ]
    }
   ],
   "source": [
    "name = input(\"Enter a string\")\n",
    "Vowels = ['A','E','I','O','U','a','e','i','o','u']\n",
    "vovel_size = 0\n",
    "Conconent_size = 0\n",
    "for i in name:\n",
    "    if i in Vowels:\n",
    "       vovel_size +=1\n",
    "    else:\n",
    "        Conconent_size += 1\n",
    "        \n",
    "print(\"Vovel in the string\",vovel_size)\n",
    "print(\"Conconent in the string\",Conconent_size)\n",
    "     "
   ]
  },
  {
   "cell_type": "code",
   "execution_count": null,
   "id": "eb380eb9-c06f-42c6-8e28-e2cd940d4027",
   "metadata": {},
   "outputs": [],
   "source": [
    "### Level 2: Lists & Tuples\n",
    "\n",
    "List Sum & Average:\n",
    "Given a list of numbers, calculate the sum and average without using sum() or len() (use loops).\n",
    "\n",
    "Second Largest Number:\n",
    "Find the second largest number in a list.\n",
    "\n",
    "Unique Elements:\n",
    "Given a list with duplicates, create a new list with only unique elements (do not use set).\n",
    "\n",
    "Tuple Swap:\n",
    "Given a tuple (a, b), swap the values without using a temporary variable.\n"
   ]
  },
  {
   "cell_type": "code",
   "execution_count": 29,
   "id": "bccd3bec-91ab-4140-aa0f-8889a5529b87",
   "metadata": {},
   "outputs": [
    {
     "name": "stdin",
     "output_type": "stream",
     "text": [
      "Enter the number of elements you eants 1 2 3 4\n"
     ]
    },
    {
     "name": "stdout",
     "output_type": "stream",
     "text": [
      "4\n",
      "10\n",
      "2.5\n"
     ]
    }
   ],
   "source": [
    "num = input(\"Enter the number of elements you eants\")\n",
    "number_in_list = list(map(int, num.split()))\n",
    "sum = 0\n",
    "count = 0\n",
    "for i in number_in_list:\n",
    "    sum += i\n",
    "    count += 1\n",
    "\n",
    "print(sum)\n",
    "print(f\"{sum/count}\")"
   ]
  },
  {
   "cell_type": "code",
   "execution_count": 42,
   "id": "72971d3b-d8d1-47fb-99d5-bbb74153b607",
   "metadata": {},
   "outputs": [
    {
     "name": "stdout",
     "output_type": "stream",
     "text": [
      "[1, 2, 3, 4, 5, 6]\n",
      "6\n"
     ]
    }
   ],
   "source": [
    "numbers = [1,2,3,4,5,6,7]\n",
    "largest = 0\n",
    "for i in numbers:\n",
    "    if i > largest:\n",
    "        largest = i\n",
    "if i in numbers:\n",
    "    numbers.pop()\n",
    "print(numbers)\n",
    "for i in numbers:\n",
    "    if i > largest:\n",
    "        largest = i\n",
    "print(i)"
   ]
  },
  {
   "cell_type": "code",
   "execution_count": 46,
   "id": "c3d35d76-ab39-4968-b307-abe721acd5ce",
   "metadata": {},
   "outputs": [
    {
     "name": "stdout",
     "output_type": "stream",
     "text": [
      "[1, 2, 3, 4, 5, 6, 7, 8]\n"
     ]
    }
   ],
   "source": [
    "numbers = [1,1,2,3,4,4,5,6,6,7,8,8]\n",
    "num = []\n",
    "for i in numbers:\n",
    "    if i not in num:\n",
    "        num.append(i)\n",
    "print(num)\n",
    "        "
   ]
  },
  {
   "cell_type": "code",
   "execution_count": 54,
   "id": "31a81356-9ddc-4d8b-bcd2-4f8a0191f3a1",
   "metadata": {},
   "outputs": [
    {
     "name": "stdout",
     "output_type": "stream",
     "text": [
      "6 2\n"
     ]
    }
   ],
   "source": [
    "elements = (2,6)\n",
    "a, b = elements\n",
    "b, a = a, b\n",
    "print(a,b)"
   ]
  },
  {
   "cell_type": "code",
   "execution_count": null,
   "id": "54d9fea3-c7f3-4fb3-99f7-bc2c7a0b3f3b",
   "metadata": {},
   "outputs": [],
   "source": []
  }
 ],
 "metadata": {
  "kernelspec": {
   "display_name": "Python [conda env:base] *",
   "language": "python",
   "name": "conda-base-py"
  },
  "language_info": {
   "codemirror_mode": {
    "name": "ipython",
    "version": 3
   },
   "file_extension": ".py",
   "mimetype": "text/x-python",
   "name": "python",
   "nbconvert_exporter": "python",
   "pygments_lexer": "ipython3",
   "version": "3.13.5"
  }
 },
 "nbformat": 4,
 "nbformat_minor": 5
}
