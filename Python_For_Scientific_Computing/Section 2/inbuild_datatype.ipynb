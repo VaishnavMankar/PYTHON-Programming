{
 "cells": [
  {
   "cell_type": "markdown",
   "id": "24a70bb7-8cbc-4591-bb29-1a96ef7e1b8d",
   "metadata": {},
   "source": [
    "## 1. List ([]) – Ordered, Mutable, Allows Duplicates"
   ]
  },
  {
   "cell_type": "code",
   "execution_count": null,
   "id": "98bc1f5f-7218-46d2-b529-726db0f64ad4",
   "metadata": {},
   "outputs": [
    {
     "name": "stdout",
     "output_type": "stream",
     "text": [
      "[1, 2, 5, 4, 3, 6, 8, 7, 5]\n"
     ]
    }
   ],
   "source": [
    "data = [1,2,5,4,3,6,8,7,5]\n",
    "print(data)"
   ]
  },
  {
   "cell_type": "code",
   "execution_count": 20,
   "id": "3c25fac0-4cec-41af-b390-e0c86d6699a7",
   "metadata": {},
   "outputs": [
    {
     "name": "stdout",
     "output_type": "stream",
     "text": [
      "[1, 2, 5, 4, 3, 6, 8, 7, 5, 7]\n"
     ]
    }
   ],
   "source": [
    "#Add item to end\n",
    "data.append(7)\n",
    "print(data)"
   ]
  },
  {
   "cell_type": "code",
   "execution_count": 21,
   "id": "de7e2e52-8e29-4366-af27-dd5e7905068b",
   "metadata": {},
   "outputs": [
    {
     "name": "stdout",
     "output_type": "stream",
     "text": [
      "[1, 2, 5, 4, 3, 6, 8, 7, 5, 7, 6, 8]\n"
     ]
    }
   ],
   "source": [
    "#Add multiple items\n",
    "data.extend([6,8])\n",
    "print(data)"
   ]
  },
  {
   "cell_type": "code",
   "execution_count": 27,
   "id": "9a226179-498f-4560-b013-c85fa29d4d05",
   "metadata": {},
   "outputs": [
    {
     "name": "stdout",
     "output_type": "stream",
     "text": [
      "[8, 6, 7, 'Hello', 5, 7, 8, 6, 3, 4, 5, 2]\n"
     ]
    }
   ],
   "source": [
    "#Insert at index\n",
    "data.insert(3,\"Hello\")\n",
    "print(data)"
   ]
  },
  {
   "cell_type": "code",
   "execution_count": 28,
   "id": "e97795c8-1b3b-4b5f-bd1a-059dc0a7746f",
   "metadata": {},
   "outputs": [
    {
     "name": "stdout",
     "output_type": "stream",
     "text": [
      "[8, 6, 7, 5, 7, 8, 6, 3, 4, 5, 2]\n"
     ]
    }
   ],
   "source": [
    "#Remove the first match\n",
    "data.remove(\"Hello\")\n",
    "print(data)"
   ]
  },
  {
   "cell_type": "code",
   "execution_count": 30,
   "id": "a0af760a-5cb5-431d-a76a-a6398ceef49f",
   "metadata": {},
   "outputs": [
    {
     "name": "stdout",
     "output_type": "stream",
     "text": [
      "[8, 6, 7, 5, 7, 8, 6, 3, 4, 5]\n"
     ]
    }
   ],
   "source": [
    "#Renove by Index\n",
    "data.pop(10)\n",
    "print(data)"
   ]
  },
  {
   "cell_type": "code",
   "execution_count": 32,
   "id": "b4e7e700-af3e-4275-a751-7fa2a587e904",
   "metadata": {},
   "outputs": [
    {
     "name": "stdout",
     "output_type": "stream",
     "text": [
      "[3, 4, 5, 5, 6, 6, 7, 7, 8, 8]\n"
     ]
    }
   ],
   "source": [
    "#sort in place\n",
    "data.sort()\n",
    "print(data)"
   ]
  },
  {
   "cell_type": "code",
   "execution_count": 35,
   "id": "2325d361-0b68-4be7-b334-eb60749c0d25",
   "metadata": {},
   "outputs": [
    {
     "name": "stdout",
     "output_type": "stream",
     "text": [
      "[8, 8, 7, 7, 6, 6, 5, 5, 4, 3]\n"
     ]
    }
   ],
   "source": [
    "#reverse in place\n",
    "data.reverse()\n",
    "print(data)"
   ]
  },
  {
   "cell_type": "code",
   "execution_count": 37,
   "id": "c530f61d-28e7-4d3b-affb-d056bbf6ae6f",
   "metadata": {},
   "outputs": [
    {
     "name": "stdout",
     "output_type": "stream",
     "text": [
      "2\n"
     ]
    }
   ],
   "source": [
    "#Find index of item \n",
    "print(data.index(7))\n"
   ]
  },
  {
   "cell_type": "code",
   "execution_count": 39,
   "id": "d0c51959-348c-40ca-89de-4a3cdcee3471",
   "metadata": {},
   "outputs": [
    {
     "name": "stdout",
     "output_type": "stream",
     "text": [
      "2\n"
     ]
    }
   ],
   "source": [
    "#Count occurrences\n",
    "print(data.count(8))"
   ]
  },
  {
   "cell_type": "markdown",
   "id": "6a9032ce-1d62-4dc3-a20c-699c3a886adb",
   "metadata": {},
   "source": [
    "### Rare but Powerful"
   ]
  },
  {
   "cell_type": "code",
   "execution_count": 42,
   "id": "6ee614db-25d8-4e7c-8dfc-846eeb44aa00",
   "metadata": {},
   "outputs": [
    {
     "name": "stdout",
     "output_type": "stream",
     "text": [
      "[8, 8, 7, 7, 6, 6, 5, 5, 4, 3]\n"
     ]
    }
   ],
   "source": [
    "#Shallo copy\n",
    "new_list = data.copy()\n",
    "print(new_list)"
   ]
  },
  {
   "cell_type": "code",
   "execution_count": 44,
   "id": "10b9ce5b-7356-4dfc-bac5-88285fba62fb",
   "metadata": {},
   "outputs": [
    {
     "name": "stdout",
     "output_type": "stream",
     "text": [
      "[]\n"
     ]
    }
   ],
   "source": [
    "#empty list\n",
    "new_list.clear()\n",
    "print(new_list)"
   ]
  },
  {
   "cell_type": "code",
   "execution_count": 50,
   "id": "049ce17f-5c8e-41de-90a1-5c499d5944f0",
   "metadata": {},
   "outputs": [
    {
     "data": {
      "text/plain": [
       "['V', 'A', 'R', 'U', 'N']"
      ]
     },
     "execution_count": 50,
     "metadata": {},
     "output_type": "execute_result"
    }
   ],
   "source": [
    "#function transformation\n",
    "name = 'varun'\n",
    "list(map(str.upper,name))"
   ]
  },
  {
   "cell_type": "code",
   "execution_count": 51,
   "id": "69fdd4fa-86ef-4576-8c3d-e1514ad8fe2d",
   "metadata": {},
   "outputs": [
    {
     "name": "stdout",
     "output_type": "stream",
     "text": [
      "[1, 2, 3, 4, 5, 6, 7, 8, 9]\n"
     ]
    }
   ],
   "source": [
    "#list Comprehension\n",
    "print([x for x in range(1,10,1)])"
   ]
  },
  {
   "cell_type": "markdown",
   "id": "900bb164-3de6-4896-80e3-d726f44181e8",
   "metadata": {},
   "source": [
    "## 2. Tuple (()) – Ordered, Immutable"
   ]
  },
  {
   "cell_type": "code",
   "execution_count": 55,
   "id": "eeb468c9-6003-453f-9de3-d61cdb28bd30",
   "metadata": {},
   "outputs": [
    {
     "name": "stdout",
     "output_type": "stream",
     "text": [
      "a = 1, b = 2\n"
     ]
    }
   ],
   "source": [
    "#Touple unpacking assign multiple values\n",
    "a,b = (1,2)\n",
    "print(f\"a = {a}, b = {b}\")"
   ]
  },
  {
   "cell_type": "code",
   "execution_count": 58,
   "id": "91e70161-adbf-4666-9d47-8e18ce1b0e15",
   "metadata": {},
   "outputs": [
    {
     "name": "stdout",
     "output_type": "stream",
     "text": [
      "<class 'tuple'>\n"
     ]
    }
   ],
   "source": [
    "data = (91,2,33,4,5,6)\n",
    "print(type(data))"
   ]
  },
  {
   "cell_type": "code",
   "execution_count": 60,
   "id": "458b3f80-e349-4758-b778-fb693fbea446",
   "metadata": {},
   "outputs": [
    {
     "name": "stdout",
     "output_type": "stream",
     "text": [
      "True\n",
      "True\n"
     ]
    }
   ],
   "source": [
    "#in keyword Membership test\n",
    "if 5 in data:\n",
    "    print(True)\n",
    "\n",
    "#or we can write it as\n",
    "if 3 in (22,55,66,3):\n",
    "    print(True)"
   ]
  },
  {
   "cell_type": "code",
   "execution_count": 67,
   "id": "7f7f3cc0-75d2-4814-9b65-9543d2cce762",
   "metadata": {},
   "outputs": [
    {
     "name": "stdout",
     "output_type": "stream",
     "text": [
      "(2, 33, 4, 5, 6)\n"
     ]
    }
   ],
   "source": [
    "#Tuple slicing Extract sub-tuples\n",
    "print(data[1:6])"
   ]
  },
  {
   "cell_type": "markdown",
   "id": "e6eb6cca-99b5-4e1a-8a31-dc5d998bfb83",
   "metadata": {},
   "source": [
    "## 3. Set ({} or set()) – Unordered, Unique Elements"
   ]
  },
  {
   "cell_type": "code",
   "execution_count": 74,
   "id": "5d6a57eb-f25f-4ef5-83e5-8825866ece7c",
   "metadata": {},
   "outputs": [
    {
     "name": "stdout",
     "output_type": "stream",
     "text": [
      "{1, 2, 3, 4, 5, 6, 7}\n"
     ]
    }
   ],
   "source": [
    "nums = {1,2,3,4,4,5,6,7}\n",
    "print(nums)"
   ]
  },
  {
   "cell_type": "code",
   "execution_count": 75,
   "id": "53d3e5c7-1212-4fec-b95d-553200fced00",
   "metadata": {},
   "outputs": [
    {
     "name": "stdout",
     "output_type": "stream",
     "text": [
      "{1, 2, 3, 4, 5, 6, 7, 10}\n"
     ]
    }
   ],
   "source": [
    "#Add elements\n",
    "nums.add(10)\n",
    "print(nums)"
   ]
  },
  {
   "cell_type": "code",
   "execution_count": 76,
   "id": "8b54d00a-4dd4-41b9-b53f-221190ae7a63",
   "metadata": {},
   "outputs": [
    {
     "name": "stdout",
     "output_type": "stream",
     "text": [
      "{1, 2, 3, 5, 6, 7, 10}\n"
     ]
    }
   ],
   "source": [
    "#remove element\n",
    "nums.remove(4)\n",
    "print(nums)"
   ]
  },
  {
   "cell_type": "code",
   "execution_count": 78,
   "id": "e025bd38-db2e-4b8d-9445-de8274730643",
   "metadata": {},
   "outputs": [
    {
     "name": "stdout",
     "output_type": "stream",
     "text": [
      "{2, 3, 5, 6, 7, 10}\n"
     ]
    }
   ],
   "source": [
    "#remove safely\n",
    "nums.discard(1)\n",
    "print(nums)"
   ]
  },
  {
   "cell_type": "code",
   "execution_count": 82,
   "id": "6fcb95e9-6b17-47a5-b3c7-8c660a98cd70",
   "metadata": {},
   "outputs": [
    {
     "name": "stdout",
     "output_type": "stream",
     "text": [
      "{2, 3, 5, 6, 7, 10, 11, 12, 13, 14}\n"
     ]
    }
   ],
   "source": [
    "#Common element\n",
    "nums2 = {11,12,13,13,14}\n",
    "print(nums.union(nums2))\n"
   ]
  },
  {
   "cell_type": "code",
   "execution_count": 83,
   "id": "f7d7a7dc-f7e3-43ff-9ce0-50706e958462",
   "metadata": {},
   "outputs": [
    {
     "name": "stdout",
     "output_type": "stream",
     "text": [
      "{10, 5, 6, 7}\n"
     ]
    }
   ],
   "source": [
    "#unique element\n",
    "nums3 = {5,6,7,8,9,10}\n",
    "print(nums.intersection(nums3))"
   ]
  },
  {
   "cell_type": "code",
   "execution_count": 85,
   "id": "c09cb3f0-3cdf-42b5-a678-aef31005d2b0",
   "metadata": {},
   "outputs": [
    {
     "name": "stdout",
     "output_type": "stream",
     "text": [
      "{2, 3}\n"
     ]
    }
   ],
   "source": [
    "#difference to find\n",
    "print(nums.difference(nums3))"
   ]
  },
  {
   "cell_type": "code",
   "execution_count": 87,
   "id": "0fa2ddd4-0bb4-44e3-b519-fc822d6cee38",
   "metadata": {},
   "outputs": [
    {
     "name": "stdout",
     "output_type": "stream",
     "text": [
      "{2, 3, 8, 9}\n"
     ]
    }
   ],
   "source": [
    "#Unique to eitherr\n",
    "print(nums.symmetric_difference(nums3))"
   ]
  },
  {
   "cell_type": "markdown",
   "id": "d03b495c-2208-4eca-8985-6288da154ad1",
   "metadata": {},
   "source": [
    "## 4. Dictionary ({key: value}) – Key-Value Mapping"
   ]
  },
  {
   "cell_type": "code",
   "execution_count": 101,
   "id": "ffecb5a1-7c6b-4bf7-b48a-704e12dcc615",
   "metadata": {},
   "outputs": [
    {
     "name": "stdout",
     "output_type": "stream",
     "text": [
      "{'name': 'Vaishnav Mankar', 'subject': ['Python', 'HPC', 'NC2'], 'Roll_NO': 2409, 'Address': 'Pune University, SCMS'}\n"
     ]
    }
   ],
   "source": [
    "student_data = {\n",
    "    'name' : 'Vaishnav Mankar',\n",
    "    'subject' : ['Python','HPC','NC2'],\n",
    "    'Roll_NO': 2409,\n",
    "    'Address':'Pune University, SCMS'\n",
    "}\n",
    "print(student_data)"
   ]
  },
  {
   "cell_type": "code",
   "execution_count": 102,
   "id": "12e09ffd-fcf7-4484-baf3-87e61908cbaa",
   "metadata": {},
   "outputs": [
    {
     "name": "stdout",
     "output_type": "stream",
     "text": [
      "Vaishnav Mankar\n"
     ]
    }
   ],
   "source": [
    "#Sage access\n",
    "print(student_data.get('name'))"
   ]
  },
  {
   "cell_type": "code",
   "execution_count": 103,
   "id": "e595735b-f0eb-4821-a71b-2b2e022ca025",
   "metadata": {},
   "outputs": [
    {
     "name": "stdout",
     "output_type": "stream",
     "text": [
      "dict_keys(['name', 'subject', 'Roll_NO', 'Address'])\n"
     ]
    }
   ],
   "source": [
    "#List of keys\n",
    "print(student_data.keys())"
   ]
  },
  {
   "cell_type": "code",
   "execution_count": 104,
   "id": "2b18a025-5c7a-4dcb-a78f-5a321878a59e",
   "metadata": {},
   "outputs": [
    {
     "name": "stdout",
     "output_type": "stream",
     "text": [
      "dict_values(['Vaishnav Mankar', ['Python', 'HPC', 'NC2'], 2409, 'Pune University, SCMS'])\n"
     ]
    }
   ],
   "source": [
    "#List of values\n",
    "print(student_data.values())"
   ]
  },
  {
   "cell_type": "code",
   "execution_count": 105,
   "id": "9bdd3deb-77d9-42b8-91da-0446299a0319",
   "metadata": {},
   "outputs": [
    {
     "name": "stdout",
     "output_type": "stream",
     "text": [
      "dict_items([('name', 'Vaishnav Mankar'), ('subject', ['Python', 'HPC', 'NC2']), ('Roll_NO', 2409), ('Address', 'Pune University, SCMS')])\n"
     ]
    }
   ],
   "source": [
    "#key-value pairs\n",
    "print(student_data.items())"
   ]
  },
  {
   "cell_type": "code",
   "execution_count": 106,
   "id": "9fa9c22e-3b5e-408f-83ca-64d424c33a1e",
   "metadata": {},
   "outputs": [
    {
     "name": "stdout",
     "output_type": "stream",
     "text": [
      "{'name': 'Vaishnav Mankar', 'subject': ['Python', 'HPC', 'NC2'], 'Roll_NO': 2409, 'Address': 'Pune University, SCMS', 'songs': ['little kirshna', 'jungle book title song'], 'movie': ['Artical 15', 'Black Fiiday']}\n"
     ]
    }
   ],
   "source": [
    "#merge dicts\n",
    "new_data = {\n",
    "    'songs':['little kirshna','jungle book title song'],\n",
    "    'movie':['Artical 15','Black Fiiday']\n",
    "}\n",
    "student_data.update(new_data)\n",
    "print(student_data)"
   ]
  },
  {
   "cell_type": "code",
   "execution_count": 107,
   "id": "5798b3dc-695c-4822-a2a5-c4c34b0b0cee",
   "metadata": {},
   "outputs": [
    {
     "name": "stdout",
     "output_type": "stream",
     "text": [
      "{'subject': ['Python', 'HPC', 'NC2'], 'Roll_NO': 2409, 'Address': 'Pune University, SCMS', 'songs': ['little kirshna', 'jungle book title song'], 'movie': ['Artical 15', 'Black Fiiday']}\n"
     ]
    }
   ],
   "source": [
    "#Remove key\n",
    "student_data.pop('name')\n",
    "print(student_data)"
   ]
  },
  {
   "cell_type": "code",
   "execution_count": 108,
   "id": "d027705d-b354-4776-88b9-6cee1af13d3c",
   "metadata": {},
   "outputs": [
    {
     "name": "stdout",
     "output_type": "stream",
     "text": [
      "{'subject': ['Python', 'HPC', 'NC2'], 'Roll_NO': 2409, 'Address': 'Pune University, SCMS', 'movie': ['Artical 15', 'Black Fiiday']}\n"
     ]
    }
   ],
   "source": [
    "#delete key\n",
    "del student_data['songs']\n",
    "print(student_data)"
   ]
  },
  {
   "cell_type": "markdown",
   "id": "e2b6c69a-297c-4711-b14f-b94a1abaf1ce",
   "metadata": {},
   "source": [
    "### Rare but Powerful"
   ]
  },
  {
   "cell_type": "code",
   "execution_count": 111,
   "id": "75c632bb-582a-48a2-9f39-595d6b20ef74",
   "metadata": {},
   "outputs": [
    {
     "name": "stdout",
     "output_type": "stream",
     "text": [
      "{'subject': ['Python', 'HPC', 'NC2'], 'Roll_NO': 2409, 'Address': 'Pune University, SCMS', 'movie': ['Artical 15', 'Black Fiiday'], 'age': 25}\n"
     ]
    }
   ],
   "source": [
    "#Default insert\n",
    "student_data.setdefault('age', 25)\n",
    "print(student_data)"
   ]
  },
  {
   "cell_type": "code",
   "execution_count": null,
   "id": "889752f1-9f62-47c1-96db-b19db53364cb",
   "metadata": {},
   "outputs": [],
   "source": []
  }
 ],
 "metadata": {
  "kernelspec": {
   "display_name": "Python [conda env:base] *",
   "language": "python",
   "name": "conda-base-py"
  },
  "language_info": {
   "codemirror_mode": {
    "name": "ipython",
    "version": 3
   },
   "file_extension": ".py",
   "mimetype": "text/x-python",
   "name": "python",
   "nbconvert_exporter": "python",
   "pygments_lexer": "ipython3",
   "version": "3.13.5"
  }
 },
 "nbformat": 4,
 "nbformat_minor": 5
}
