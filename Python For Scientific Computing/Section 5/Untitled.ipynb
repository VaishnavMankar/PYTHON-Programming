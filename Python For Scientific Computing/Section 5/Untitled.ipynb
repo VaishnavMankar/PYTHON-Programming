{
 "cells": [
  {
   "cell_type": "markdown",
   "id": "9465088c-04d6-4a3f-ad24-25f08786cb88",
   "metadata": {},
   "source": [
    "#### Given a string s, find the length of the longest substring without duplicate characters.\n",
    "\n",
    "Input: s = \"abcabcbb\"\n",
    "Output: 3\n",
    "Explanation: The answer is \"abc\", with the length of 3. Note that \"bca\" and \"cab\" are also correct answers.\n",
    "Example 2:\n",
    "\n",
    "Input: s = \"bbbbb\"\n",
    "Output: 1\n",
    "Explanation: The answer is \"b\", with the length of 1.\n",
    "Example 3:\n",
    "\n",
    "Input: s = \"pwwkew\"\n",
    "Output: 3\n",
    "Explanation: The answer is \"wke\", with the length of 3.\n",
    "Notice that the answer must be a substring, \"pwke\" is a subsequence and not a substring.\n",
    "\n",
    "\n",
    "Median of Two Sorted Arrays\n",
    "\n",
    "Given two sorted arrays nums1 and nums2 of size m and n respectively, return the median of the two sorted arrays.\n",
    "\n",
    "The overall run time complexity should be O(log (m+n)).\n"
   ]
  },
  {
   "cell_type": "code",
   "execution_count": 1,
   "id": "bcb9b1dc-5c48-42c0-a421-9dbb55f1076e",
   "metadata": {},
   "outputs": [
    {
     "name": "stdin",
     "output_type": "stream",
     "text": [
      "Enter a string:  vaishnav\n"
     ]
    },
    {
     "name": "stdout",
     "output_type": "stream",
     "text": [
      "['v', 'a', 'i', 's', 'h', 'n']\n"
     ]
    }
   ],
   "source": [
    "name = input(\"Enter a string: \")\n",
    "longest_string = []\n",
    "for i in name:\n",
    "    if i not in longest_string:\n",
    "        longest_string.append(i)\n",
    "\n",
    "print(longest_string)"
   ]
  },
  {
   "cell_type": "markdown",
   "id": "9a6c3c6c-476a-48d8-a68b-5aa45964778c",
   "metadata": {},
   "source": [
    "Example 1:\n",
    "\n",
    "Input: nums1 = [1,3], nums2 = [2]\n",
    "Output: 2.00000\n",
    "Explanation: merged array = [1,2,3] and median is 2.\n",
    "Example 2:\n",
    "\n",
    "Input: nums1 = [1,2], nums2 = [3,4]\n",
    "Output: 2.50000\n",
    "Explanation: merged array = [1,2,3,4] and median is (2 + 3) / 2 = 2.5.\n"
   ]
  },
  {
   "cell_type": "code",
   "execution_count": 45,
   "id": "4273c995-358b-41f5-8a5a-ac9077f3e9e4",
   "metadata": {},
   "outputs": [
    {
     "name": "stdout",
     "output_type": "stream",
     "text": [
      "5.5\n"
     ]
    }
   ],
   "source": [
    "num1 = [1,2,3,4]\n",
    "num2 = [8,6,7,5]\n",
    "num3 = num1 + num2\n",
    "num3.sort()\n",
    "middle = len(num3)\n",
    "if middle % 2 == 1:\n",
    "    print(num3[middle/2])\n",
    "else:\n",
    "    mid1 = num3[middle//2]\n",
    "    mid2 = num3[(middle//2) + 1]\n",
    "    print((mid1+mid2)/2)"
   ]
  },
  {
   "cell_type": "markdown",
   "id": "1542a691-5d48-4d46-b70a-3e169b26decb",
   "metadata": {},
   "source": [
    "### 3Sum Closest\n",
    "\n",
    "Given an integer array nums of length n and an integer target, find three integers in nums such that the sum is closest to target.\n",
    "\n",
    "Return the sum of the three integers.\n",
    "\n",
    "You may assume that each input would have exactly one solution.\n",
    "\n",
    " \n",
    "\n",
    "Example 1:\n",
    "\n",
    "Input: nums = [-1,2,1,-4], target = 1\n",
    "Output: 2\n",
    "Explanation: The sum that is closest to the target is 2. (-1 + 2 + 1 = 2).\n",
    "\n",
    "Example 2:\n",
    "\n",
    "Input: nums = [0,0,0], target = 1\n",
    "Output: 0\n",
    "Explanation: The sum that is closest to the target is 0. (0 + 0 + 0 = 0)."
   ]
  },
  {
   "cell_type": "code",
   "execution_count": null,
   "id": "42e8dd20-0fac-4afa-b739-905d00bad471",
   "metadata": {},
   "outputs": [],
   "source": []
  },
  {
   "cell_type": "code",
   "execution_count": null,
   "id": "0c1d1fff-8738-4ab4-a2b8-325afdb1a416",
   "metadata": {},
   "outputs": [],
   "source": []
  }
 ],
 "metadata": {
  "kernelspec": {
   "display_name": "Python [conda env:base] *",
   "language": "python",
   "name": "conda-base-py"
  },
  "language_info": {
   "codemirror_mode": {
    "name": "ipython",
    "version": 3
   },
   "file_extension": ".py",
   "mimetype": "text/x-python",
   "name": "python",
   "nbconvert_exporter": "python",
   "pygments_lexer": "ipython3",
   "version": "3.13.5"
  }
 },
 "nbformat": 4,
 "nbformat_minor": 5
}
